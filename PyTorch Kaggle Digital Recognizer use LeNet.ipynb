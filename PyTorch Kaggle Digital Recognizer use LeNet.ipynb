{
 "cells": [
  {
   "cell_type": "code",
   "execution_count": 70,
   "metadata": {},
   "outputs": [],
   "source": [
    "# Kaggle入门竞赛，数字识别，使用pytorch实现LeNet\n",
    "\n",
    "# pytorch 版本 0.4.0\n",
    "\n",
    "import numpy as np\n",
    "import torch\n",
    "import torch.nn as nn\n",
    "import torch.optim as optim\n",
    "import torch.nn.functional as F\n",
    "import pandas as pd\n",
    "from torch.autograd import Variable"
   ]
  },
  {
   "cell_type": "code",
   "execution_count": 47,
   "metadata": {},
   "outputs": [
    {
     "name": "stdout",
     "output_type": "stream",
     "text": [
      "LeNet(\n",
      "  (conv1): Conv2d(1, 6, kernel_size=(5, 5), stride=(1, 1))\n",
      "  (conv2): Conv2d(6, 16, kernel_size=(5, 5), stride=(1, 1))\n",
      "  (pool): MaxPool2d(kernel_size=2, stride=2, padding=0, dilation=1, ceil_mode=False)\n",
      "  (fc1): Linear(in_features=256, out_features=120, bias=True)\n",
      "  (fc2): Linear(in_features=120, out_features=84, bias=True)\n",
      "  (fc3): Linear(in_features=84, out_features=10, bias=True)\n",
      ")\n"
     ]
    }
   ],
   "source": [
    "# 数字识别的图片大小为 1 * 28 * 28\n",
    "\n",
    "class LeNet(nn.Module):\n",
    "    def __init__(self):\n",
    "        super(LeNet, self).__init__()\n",
    "        self.conv1 = nn.Conv2d(1, 6, 5)\n",
    "        self.conv2 = nn.Conv2d(6, 16, 5)\n",
    "        self.pool = nn.MaxPool2d(2, 2)\n",
    "        self.fc1 = nn.Linear(16 * 4 * 4, 120)\n",
    "        self.fc2 = nn.Linear(120, 84)\n",
    "        self.fc3 = nn.Linear(84, 10)\n",
    "    \n",
    "    def forward(self, x):\n",
    "        # 1 * 28 * 28\n",
    "        x = F.relu(self.conv1(x))\n",
    "        # 6 * 24 * 24\n",
    "        x = self.pool(x)\n",
    "        # 6 * 12 * 12\n",
    "        x = F.relu(self.conv2(x))\n",
    "        # 16 * 8 * 8\n",
    "        x = self.pool(x)\n",
    "        # 16 * 4 * 4\n",
    "        x = x.view(-1, 16 * 4 * 4)\n",
    "        x = F.relu(self.fc1(x))\n",
    "        # 120\n",
    "        x = F.relu(self.fc2(x))\n",
    "        # 84\n",
    "        x = self.fc3(x)\n",
    "        # 10\n",
    "        return x\n",
    "    \n",
    "net = LeNet()\n",
    "print(net)"
   ]
  },
  {
   "cell_type": "code",
   "execution_count": 48,
   "metadata": {},
   "outputs": [
    {
     "name": "stdout",
     "output_type": "stream",
     "text": [
      "USE GPU\n"
     ]
    }
   ],
   "source": [
    "IS_USE_GPU = torch.cuda.is_available()\n",
    "if IS_USE_GPU:\n",
    "    net = net.cuda()\n",
    "    print ('USE GPU')\n",
    "else:\n",
    "    print ('USE CPU')"
   ]
  },
  {
   "cell_type": "code",
   "execution_count": 49,
   "metadata": {},
   "outputs": [
    {
     "name": "stdout",
     "output_type": "stream",
     "text": [
      "Loading data finished...\n"
     ]
    }
   ],
   "source": [
    "train_address = \"train.csv\"\n",
    "test_address = \"test.csv\"\n",
    "\n",
    "\n",
    "train = pd.read_csv(train_address).values\n",
    "test  = pd.read_csv(test_address).values\n",
    "\n",
    "train_data = train[:, 1:].reshape(train.shape[0], 1, 28, 28)\n",
    "train_data = train_data.astype(float)\n",
    "train_data = train_data / 255\n",
    "train_data = torch.from_numpy(train_data)\n",
    "\n",
    "train_label = train[:, 0]\n",
    "train_label = train_label.astype(int)\n",
    "train_label = torch.from_numpy(train_label)\n",
    "# 此时的label是一维的，我们把它变成二维只有一列的数组\n",
    "train_label = train_label.view(train.shape[0], -1)\n",
    "\n",
    "test_data = test.reshape(test.shape[0], 1, 28, 28)\n",
    "test_data = test_data.astype(float)\n",
    "test_data = test_data / 255\n",
    "test_data = torch.from_numpy(test_data)\n",
    "\n",
    "print (\"Loading data finished...\")"
   ]
  },
  {
   "cell_type": "code",
   "execution_count": 50,
   "metadata": {},
   "outputs": [],
   "source": [
    "criterion = nn.CrossEntropyLoss()\n",
    "optimizer = optim.SGD(net.parameters(), lr = 0.001, momentum = 0.9)"
   ]
  },
  {
   "cell_type": "code",
   "execution_count": 77,
   "metadata": {},
   "outputs": [
    {
     "name": "stdout",
     "output_type": "stream",
     "text": [
      "Epoch = 0,  Loss = 0.000000\n",
      "Epoch = 1,  Loss = 0.000000\n",
      "Epoch = 2,  Loss = 0.000000\n",
      "Epoch = 3,  Loss = 0.000000\n",
      "Epoch = 4,  Loss = 0.000000\n",
      "training finished\n"
     ]
    }
   ],
   "source": [
    "# training model\n",
    "epoch_C = 5\n",
    "batch = 5\n",
    "# 让GPU加速更快，batch就需要加大\n",
    "# 但是batch增大会使网络收敛增大变大\n",
    "\n",
    "for epoch in range(epoch_C):\n",
    "    loss = 0.0\n",
    "    index = 0\n",
    "    while (index + batch) < train_data.shape[0]:\n",
    "        loss = 0.0\n",
    "        data = Variable(train_data[index : index+batch].clone())\n",
    "        label = Variable(train_label[index : index+batch].clone())\n",
    "        label = label.view(batch)\n",
    "        \n",
    "        data  = data.type(torch.FloatTensor)\n",
    "        label = label.type(torch.LongTensor)\n",
    "        \n",
    "        if IS_USE_GPU:\n",
    "            data  = data.cuda()\n",
    "            label = label.cuda()\n",
    "            \n",
    "        optimizer.zero_grad()\n",
    "        out = net(data)\n",
    "        loss = criterion(out, label)\n",
    "        loss.backward()\n",
    "        optimizer.step()\n",
    "        # if ((index) % 2000 == 0):\n",
    "            # print(\"Epoch = %d,Index = %d,  Loss = %f\" %(epoch, index, loss))\n",
    "        index = index + batch\n",
    "        \n",
    "    print(\"Epoch = %d,  Loss = %f\" %(epoch, loss))\n",
    "print(\"training finished\")"
   ]
  },
  {
   "cell_type": "code",
   "execution_count": 74,
   "metadata": {},
   "outputs": [
    {
     "name": "stdout",
     "output_type": "stream",
     "text": [
      "Total tested = 2000\n",
      "Total tested = 4000\n",
      "Total tested = 6000\n",
      "Total tested = 8000\n",
      "Total tested = 10000\n",
      "Total tested = 12000\n",
      "Total tested = 14000\n",
      "Total tested = 16000\n",
      "Total tested = 18000\n",
      "Total tested = 20000\n",
      "Total tested = 22000\n",
      "Total tested = 24000\n",
      "Total tested = 26000\n",
      "Total tested = 28000\n"
     ]
    }
   ],
   "source": [
    "# test\n",
    "count = test_data.shape[0]\n",
    "final_prediction = np.ndarray(shape = (count, 2), dtype=int)\n",
    "for index in range(count):\n",
    "    data = Variable(test_data[index : index+1].clone())\n",
    "    data = data.type(torch.FloatTensor)\n",
    "    if IS_USE_GPU:\n",
    "        data = data.cuda()\n",
    "    out = net(data)\n",
    "    pred = torch.max(out, 1)\n",
    "    final_prediction[index][0] = 1 + index\n",
    "    final_prediction[index][1] = pred[1][0]\n",
    "    if (index + 1) % 2000 == 0:\n",
    "        print(\"Total tested = %d\" %(index + 1))"
   ]
  },
  {
   "cell_type": "code",
   "execution_count": 75,
   "metadata": {},
   "outputs": [],
   "source": [
    "submission = pd.DataFrame(final_prediction, dtype=int, columns=['ImageId', 'Label'])\n",
    "submission.to_csv('submission.csv', index=False, header=True)"
   ]
  },
  {
   "cell_type": "code",
   "execution_count": null,
   "metadata": {},
   "outputs": [],
   "source": []
  }
 ],
 "metadata": {
  "kernelspec": {
   "display_name": "Python 3",
   "language": "python",
   "name": "python3"
  },
  "language_info": {
   "codemirror_mode": {
    "name": "ipython",
    "version": 3
   },
   "file_extension": ".py",
   "mimetype": "text/x-python",
   "name": "python",
   "nbconvert_exporter": "python",
   "pygments_lexer": "ipython3",
   "version": "3.6.4"
  }
 },
 "nbformat": 4,
 "nbformat_minor": 2
}
